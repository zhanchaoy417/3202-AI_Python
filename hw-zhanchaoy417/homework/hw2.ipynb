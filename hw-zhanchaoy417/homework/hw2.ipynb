{
 "cells": [
  {
   "cell_type": "markdown",
   "metadata": {},
   "source": [
    "---\n",
    "\n",
    "# CSCI 3202, Spring 2022\n",
    "# Homework 2\n",
    "# Due: Friday February 18, 2022 at 6:00 PM\n",
    "\n",
    "<br> \n",
    "\n",
    "### Your name:\n",
    "\n",
    "<br> "
   ]
  },
  {
   "cell_type": "markdown",
   "metadata": {},
   "source": [
    "Zhanchao Yang"
   ]
  },
  {
   "cell_type": "markdown",
   "metadata": {},
   "source": [
    "---\n",
    "This homework requires that you install a few packages and libraries. **Before you start this assigment, read over the entire [github README](https://github.com/coloradointroai/hw_spring_2022).** Set yourself up early so you have the time to work through any bugs. Corrections will be made to the coloradointroai github if needed, pull often and check for updates regularly."
   ]
  },
  {
   "cell_type": "code",
   "execution_count": 1,
   "metadata": {},
   "outputs": [],
   "source": [
    "import os\n",
    "import sys\n",
    "import math\n",
    "# Allows this jupyter notebook to access the python code in ../colorado_intro_ai/*\n",
    "module_path = os.path.abspath(os.path.join('..'))\n",
    "if module_path not in sys.path:\n",
    "    sys.path.append(module_path)\n",
    "%load_ext autoreload\n",
    "%autoreload 2\n",
    "\n",
    "# You need to complete #3 of the recommended setup before you change code in each class. Look at the README for information.\n",
    "from colorado_intro_ai.hw2.robot import Robot"
   ]
  },
  {
   "cell_type": "markdown",
   "metadata": {},
   "source": [
    "---\n",
    "## Problem 1 - A* Search By Hand Problem"
   ]
  },
  {
   "cell_type": "markdown",
   "metadata": {},
   "source": [
    "Use the graph below to implement A* Search to find the shortest path from node S to node G. Heuristic values are shown in red above each node. Step costs between nodes are shown near each respective edge in black.\n",
    "\n",
    "![](../imgs/graph.png)\n",
    "\n",
    "More specifics: Go through the A* algorithm by hand to determine the path that should be taken from $S$ to $G$. Fill in the table below to show the updated explored set and frontier with each iteration. The first iteration is done for you so that you can see the notation that is expected. If there are any ties, break them in alphabetical order."
   ]
  },
  {
   "cell_type": "markdown",
   "metadata": {},
   "source": [
    "| Explored Nodes | Frontier Nodes/Paths & f values  |\n",
    "| :- | -: |\n",
    "| $ $ | $(S,13)$ |\n",
    "| $S$ | $(A,14),(B,16), (C,17)$ |\n",
    "| $A$| $(B,16),(D,16), (C,17)$ |\n",
    "| $B$| $(D,16), (C,17)$ |\n",
    "| $D$| $(C,17), (E,17)$ |\n",
    "| $C$| $(E,17),(F,22)$ |\n",
    "| $E$| $(G,17),(F,22)$ |\n"
   ]
  },
  {
   "cell_type": "markdown",
   "metadata": {},
   "source": [
    "Next explpre G and algorithm terminate. So the shortest cost is 17 from S to G (path is SADEG)."
   ]
  },
  {
   "cell_type": "markdown",
   "metadata": {},
   "source": [
    "---\n",
    "## Problem 2 - A* Search Coding Problem"
   ]
  },
  {
   "cell_type": "markdown",
   "metadata": {},
   "source": [
    "The A* objective function is expressed as $f(n) = g(n) + h(n)$, where $f(n)$ is the estimated cost to get form the start node to the goal node going through node $n$. $g(n)$ is the cost to get from the start to node $n$ and $h(n)$ is the estimated cost to move from node $n$ to the goal node. $h(n)$ is also known as a $\\textit{heuristic}$ function. \n",
    "\n",
    "Familiarize yourself with the classes and documention linked below. You will implement your solutions to this problem inside of the [pathSolver.py](https://github.com/coloradointroai/hw_spring_2022/blob/master/colorado_intro_ai/hw2/pathSolver.py) class file in the cloned repository on your computer. \n",
    "\n",
    "## Links\n",
    "* [Robot class file](https://github.com/coloradointroai/hw_spring_2022/blob/master/colorado_intro_ai/hw2/robot.py)\n",
    "* [Enviornment class file](https://github.com/coloradointroai/hw_spring_2022/blob/master/colorado_intro_ai/hw2/enviornment.py)\n",
    "* [PathSolver class file](https://github.com/coloradointroai/hw_spring_2022/blob/master/colorado_intro_ai/hw2/pathSolver.py)\n",
    "* [Colorado intro ai documentation](https://coloradointroai.github.io)\n",
    "\n",
    "### Usage examples"
   ]
  },
  {
   "cell_type": "code",
   "execution_count": 2,
   "metadata": {},
   "outputs": [
    {
     "name": "stdout",
     "output_type": "stream",
     "text": [
      "calliing BFS\n"
     ]
    },
    {
     "data": {
      "image/png": "[encoded data removed]",
      "text/plain": [
       "<Figure size 432x288 with 1 Axes>"
      ]
     },
     "metadata": {
      "needs_background": "light"
     },
     "output_type": "display_data"
    },
    {
     "name": "stdout",
     "output_type": "stream",
     "text": [
      "calliing BFS\n"
     ]
    },
    {
     "data": {
      "image/png": "[encoded data removed]",
      "text/plain": [
       "<Figure size 432x288 with 1 Axes>"
      ]
     },
     "metadata": {
      "needs_background": "light"
     },
     "output_type": "display_data"
    },
    {
     "name": "stdout",
     "output_type": "stream",
     "text": [
      "calliing BFS\n",
      "Empty path given to show_env_and_path()\n",
      "calliing BFS\n",
      "Empty path given to show_env_and_path()\n",
      "calliing BFS\n"
     ]
    },
    {
     "data": {
      "image/png": "[encoded data removed]",
      "text/plain": [
       "<Figure size 432x288 with 1 Axes>"
      ]
     },
     "metadata": {
      "needs_background": "light"
     },
     "output_type": "display_data"
    },
    {
     "name": "stdout",
     "output_type": "stream",
     "text": [
      "calliing BFS\n"
     ]
    },
    {
     "data": {
      "image/png": "[encoded data removed]",
      "text/plain": [
       "<Figure size 432x288 with 1 Axes>"
      ]
     },
     "metadata": {
      "needs_background": "light"
     },
     "output_type": "display_data"
    },
    {
     "name": "stdout",
     "output_type": "stream",
     "text": [
      "calliing BFS\n",
      "Empty path given to show_env_and_path()\n",
      "calliing BFS\n"
     ]
    },
    {
     "data": {
      "image/png": "[encoded data removed]",
      "text/plain": [
       "<Figure size 432x288 with 1 Axes>"
      ]
     },
     "metadata": {
      "needs_background": "light"
     },
     "output_type": "display_data"
    },
    {
     "name": "stdout",
     "output_type": "stream",
     "text": [
      "calliing BFS\n",
      "Empty path given to show_env_and_path()\n",
      "calliing BFS\n",
      "Empty path given to show_env_and_path()\n",
      "calliing BFS\n",
      "Empty path given to show_env_and_path()\n",
      "calliing BFS\n"
     ]
    },
    {
     "data": {
      "image/png": "[encoded data removed]",
      "text/plain": [
       "<Figure size 432x288 with 1 Axes>"
      ]
     },
     "metadata": {
      "needs_background": "light"
     },
     "output_type": "display_data"
    },
    {
     "name": "stdout",
     "output_type": "stream",
     "text": [
      "calliing BFS\n"
     ]
    },
    {
     "data": {
      "image/png": "[encoded data removed]",
      "text/plain": [
       "<Figure size 432x288 with 1 Axes>"
      ]
     },
     "metadata": {
      "needs_background": "light"
     },
     "output_type": "display_data"
    },
    {
     "name": "stdout",
     "output_type": "stream",
     "text": [
      "calliing BFS\n",
      "Empty path given to show_env_and_path()\n",
      "calliing BFS\n",
      "Empty path given to show_env_and_path()\n",
      "calliing BFS\n"
     ]
    },
    {
     "data": {
      "image/png": "[encoded data removed]",
      "text/plain": [
       "<Figure size 432x288 with 1 Axes>"
      ]
     },
     "metadata": {
      "needs_background": "light"
     },
     "output_type": "display_data"
    },
    {
     "name": "stdout",
     "output_type": "stream",
     "text": [
      "calliing BFS\n"
     ]
    },
    {
     "data": {
      "image/png": "[encoded data removed]",
      "text/plain": [
       "<Figure size 432x288 with 1 Axes>"
      ]
     },
     "metadata": {
      "needs_background": "light"
     },
     "output_type": "display_data"
    },
    {
     "name": "stdout",
     "output_type": "stream",
     "text": [
      "calliing BFS\n",
      "Empty path given to show_env_and_path()\n",
      "calliing BFS\n",
      "Empty path given to show_env_and_path()\n",
      "calliing BFS\n"
     ]
    },
    {
     "data": {
      "image/png": "[encoded data removed]",
      "text/plain": [
       "<Figure size 432x288 with 1 Axes>"
      ]
     },
     "metadata": {
      "needs_background": "light"
     },
     "output_type": "display_data"
    }
   ],
   "source": [
    "\n",
    "start = (0, 0)\n",
    "goal = (8, 9)\n",
    "robot = Robot()\n",
    "\n",
    "for i in range(10):\n",
    "    path = robot.path_solver.breadth_first_search((0,7), (7, 1), robot.env.edge_weights_2)\n",
    "    robot.show_env_and_path(path)\n",
    "  \n",
    "\n",
    "    robot.refresh_env()\n",
    "\n",
    "    path, cost = robot.path_solver.breadth_first_search(start, goal, robot.env.edge_weights_2, return_cost=True)\n",
    "    robot.show_env_and_path(path)\n",
    "    robot.refresh_env\n",
    "    # print(cost)\n",
    "    \n",
    "   \n",
    "\n",
    "\n"
   ]
  },
  {
   "cell_type": "markdown",
   "metadata": {},
   "source": [
    "### PART 2A) \n",
    "Implement the first three functions in [pathSolver.py](https://github.com/coloradointroai/hw_spring_2022/blob/master/colorado_intro_ai/hw2/pathSolver.py), you should copy your code from homework 1 and make the required changes to fit the function declaration. \n",
    "\n",
    "Note that breadth_first_search is already completed for you. So really you just need to implement depth_first_search and uniform_cost_search in pathSolver.py. \n",
    "\n",
    "In the cells below, demonstrate that each of the functions work by invoking each function using the `Robot` class as seen in the example above. For each algorithm, include the following:\n",
    "\n",
    "- I) a visualization of the solved env using `show_env_and_path` and \n",
    "- II) the cost of each path in table (see the sample table below for how to format table rows and columns)\n",
    "\n",
    "\n",
    "| Alogorithm | Cost  |\n",
    "|------|------|\n",
    "|   BFS  | 513|\n",
    "|   DFS  | 580|\n",
    "|   UCS | 299|\n"
   ]
  },
  {
   "cell_type": "code",
   "execution_count": 30,
   "metadata": {},
   "outputs": [
    {
     "name": "stdout",
     "output_type": "stream",
     "text": [
      "calliing BFS\n"
     ]
    },
    {
     "data": {
      "image/png": "[encoded data removed]",
      "text/plain": [
       "<Figure size 432x288 with 1 Axes>"
      ]
     },
     "metadata": {
      "needs_background": "light"
     },
     "output_type": "display_data"
    },
    {
     "name": "stdout",
     "output_type": "stream",
     "text": [
      "The cost is 513\n",
      "calliing DFS\n"
     ]
    },
    {
     "data": {
      "image/png": "[encoded data removed]",
      "text/plain": [
       "<Figure size 432x288 with 1 Axes>"
      ]
     },
     "metadata": {
      "needs_background": "light"
     },
     "output_type": "display_data"
    },
    {
     "name": "stdout",
     "output_type": "stream",
     "text": [
      "The cost is 580\n",
      "calliing UCS\n"
     ]
    },
    {
     "data": {
      "image/png": "[encoded data removed]",
      "text/plain": [
       "<Figure size 432x288 with 1 Axes>"
      ]
     },
     "metadata": {
      "needs_background": "light"
     },
     "output_type": "display_data"
    },
    {
     "name": "stdout",
     "output_type": "stream",
     "text": [
      "The cost is 299\n"
     ]
    }
   ],
   "source": [
    "path,cost1 = robot.path_solver.breadth_first_search(start, goal, robot.env.edge_weights_2,return_cost=True)\n",
    "robot.show_env_and_path(path)\n",
    "print('The cost is',cost1)\n",
    "path, cost2 = robot.path_solver.depth_first_search(start, goal, robot.env.edge_weights_2, return_cost=True)\n",
    "robot.show_env_and_path(path)\n",
    "print('The cost is',cost2)\n",
    "path, cost3 = robot.path_solver.uniform_cost_search(start, goal, robot.env.edge_weights_2, return_cost=True)\n",
    "robot.show_env_and_path(path)\n",
    "print('The cost is',cost3)\n",
    "# robot.refresh_env\n"
   ]
  },
  {
   "cell_type": "markdown",
   "metadata": {},
   "source": [
    "### PART 2B)\n",
    "\n",
    "Implement the function `a_star_euclidian` in [pathSolver.py](https://github.com/coloradointroai/hw_spring_2022/blob/master/colorado_intro_ai/hw2/pathSolver.py). The function should return the f(n), where $f(n) = g(n) + h(n)$. Demonstrate your function works by calling it using the `Robot` class. \n",
    "\n",
    "For full credit include the following:\n",
    "\n",
    "- I) a visualization of the original and solved env using `show_env_and_path` \n",
    "- II) Explain what benefits this algorithm has over bfs, dfs, and ucs.\n",
    "\n",
    "#### Function Details\n",
    "The A* objective function is $f(n) = g(n) + h(n)$. In this implementation $h(n) = \\sqrt{(x_g - x_n)^2 + (y_g - y_n)^2}$. In this equation; $x_g$ and $x_n$ represent the column location of goal and current node, repectively. The variables $y_g$ and $y_n$ are the row values of each node."
   ]
  },
  {
   "cell_type": "code",
   "execution_count": 31,
   "metadata": {},
   "outputs": [
    {
     "data": {
      "image/png": "[encoded data removed]",
      "text/plain": [
       "<Figure size 432x288 with 1 Axes>"
      ]
     },
     "metadata": {
      "needs_background": "light"
     },
     "output_type": "display_data"
    },
    {
     "name": "stdout",
     "output_type": "stream",
     "text": [
      "The cost is 303\n"
     ]
    }
   ],
   "source": [
    "path, cost4 = robot.path_solver.a_star_euclidian(start, goal, robot.env.edge_weights_2, return_cost=True)\n",
    "robot.show_env_and_path(path)\n",
    "print('The cost is',cost4)"
   ]
  },
  {
   "cell_type": "markdown",
   "metadata": {},
   "source": [
    "The euclidian algorithm calculates the true distance between two points, Its advantage is that it does not consider factors such as too many obstacles and the added cost of each block. And in 2D arrays, its advantages are obvious. In the case of more obstacles, bfs, dfs, and ucs need to consider the route, which may increase the cost, but has no effect on the euclidian calculation cost. It always considers the straight-line distance from the starting point to the target, so that its cost is relatively less for the current 2-dimensional space."
   ]
  },
  {
   "cell_type": "markdown",
   "metadata": {},
   "source": [
    "### PART 2C)\n",
    "\n",
    "Implement the function `a_star_manhattan` in [pathSolver.py](https://github.com/coloradointroai/hw_spring_2022/blob/master/colorado_intro_ai/hw2/pathSolver.py). Demonstrate your function works by calling it using the `Robot` class. \n",
    "\n",
    "For full credit include the following:\n",
    "\n",
    "- I) A visualization of the original and solved env using `show_env_and_path`, include the path cost.\n",
    "- II) You must create and use a private class function within `a_star_manhattan` that computes the value of $h(x)$. You pick the private function name. \n",
    "- III) Give a short explanation of why you would create a private function within a class in a personal project you are sharing with a friend.\n",
    "\n",
    "#### Function Details\n",
    "The A* objective function is $f(n) = g(n) + h(n)$. In this implementation $h(n) = (x_g - x_n) + (y_g - y_n)$. In this equation; $x_g$ and $x_n$ represent the column location of goal and current node, repectively. The variables $y_g$ and $y_n$ are the row values of each node. The robot _CAN_ still move in all 8 directions."
   ]
  },
  {
   "cell_type": "code",
   "execution_count": 29,
   "metadata": {},
   "outputs": [
    {
     "data": {
      "image/png": "[encoded data removed]",
      "text/plain": [
       "<Figure size 432x288 with 1 Axes>"
      ]
     },
     "metadata": {
      "needs_background": "light"
     },
     "output_type": "display_data"
    },
    {
     "name": "stdout",
     "output_type": "stream",
     "text": [
      "The cost is 399\n"
     ]
    }
   ],
   "source": [
    "path, cost5 = robot.path_solver.a_star_manhattan(start, goal, robot.env.edge_weights_2, return_cost=True)\n",
    "robot.show_env_and_path(path)\n",
    "print('The cost is',cost5)"
   ]
  },
  {
   "cell_type": "markdown",
   "metadata": {},
   "source": [
    "- II) The function is call `_manhattan` defined as private class.\n",
    "- III) Set some functional equations that will not change easily, or set things you wrote to private. When there is a code problem, it will not crash the entire program. If you know that it is a problem with your own code, it will be faster. Find the error in the private class and modify it."
   ]
  },
  {
   "cell_type": "markdown",
   "metadata": {},
   "source": [
    "# Problem 3 - Heuristics\n",
    "\n",
    "- For questions 3A, 3B, 3C, and 3D answer True or False and provide a brief explanation, or a counterexample where applicable.\n",
    "\n",
    "- For question 3E, provide a brief explanation.\n",
    "\n",
    "### Part 3A. \n",
    "Depth-first search always expands at least as many nodes as A* search with an admissible heuristic."
   ]
  },
  {
   "cell_type": "markdown",
   "metadata": {},
   "source": [
    "It is False.\n",
    "\n",
    "For example, there are 3 node A,B,C and A is the root， B，C are childnode. Find the path A-B, In the best case, DFS only needs to explore A, B, but A* may want to explore A, B, C to find the smallest sum of heuristic and true costs. So DFS can only be equal to and less than A* expand nodes."
   ]
  },
  {
   "cell_type": "markdown",
   "metadata": {},
   "source": [
    "### Part 3B. \n",
    "Uniform cost search always expands at least as many nodes as A* search with an admissible heuristic."
   ]
  },
  {
   "cell_type": "markdown",
   "metadata": {},
   "source": [
    "It is True.\n",
    "\n",
    "UCS is a form of BFS, and the algorithm ensures that every child node must be visited, and A* does the same. The difference between UCS and A* is that UCS selects the node with the smallest cost to expand, and the A* algorithm selects the node with the smallest sum of expected and actual costs to expand, so their explore nodes are the same, and in the worst case, they need to explore all node."
   ]
  },
  {
   "cell_type": "markdown",
   "metadata": {},
   "source": [
    "### Part 3C. \n",
    "In the game of chess, in a single move, a rook can move any number of squares on a chessboard in a straight line, either vertically or horizontally, but cannot jump over other pieces. Manhattan distance is an admissible heuristic for the smallest number of moves required to move the rook from square A to square B."
   ]
  },
  {
   "cell_type": "markdown",
   "metadata": {},
   "source": [
    "It is False.\n",
    "\n",
    "For a standard 8x8 chess board, a rook takes only one step from the upper left corner to the lower left corner, but in the Manhattan algorithm, it takes 8 steps down, Manhattan overestimates the value of the cost, so it is not an admissible heuristic method."
   ]
  },
  {
   "cell_type": "markdown",
   "metadata": {},
   "source": [
    "### Part 3D.\n",
    "Assume you are given multiple admissible heuristics for a problem and you're unsure about which heuristic is the best. You can use both heuristics by summing them to produce a new heuristic that is also admissible. "
   ]
  },
  {
   "cell_type": "markdown",
   "metadata": {},
   "source": [
    "It is False\n",
    "\n",
    "An counterexample is, there are only 2 nodes A,B. The starting point is nodeA and the end point is nodeB. One algorithm says that the heuristic cost of B is 1, and the second algorithm says that the heuristic cost of B is 2. If two algorithms are said to be admissible, because the actual cost is 2.5. But put them Adding up is not admissible as cost 3 would overestimate the cost."
   ]
  },
  {
   "cell_type": "markdown",
   "metadata": {},
   "source": [
    "### Part 3E.\n",
    "\n",
    "Using the graph shown, describe why a heuristic must be admissible and consistent for A* search to find an optimal path. Be specific in your answer. \n",
    "\n",
    "Hint: Consider paths starting at $S$ and ending at $C$.\n",
    "\n",
    "![](../imgs/AStarGraph.png)"
   ]
  },
  {
   "cell_type": "markdown",
   "metadata": {},
   "source": [
    "From S to the next path, A* will consider SB first, then SA. If A* is only admissible, the cost of SB will not be higher than the cost of SA-B, then it will not explore A, and finally the path SB-C is not optimal. If A* is also consistent, then it will explore A, find that the cost of S-A-B is 2, then update the cost from S to node B to 2, and finally find the optimal path S-A-B-C. In the example A*'s admissible and consistent guarantees to find the lowest cost point in any case and expand to find the optimal."
   ]
  },
  {
   "cell_type": "code",
   "execution_count": null,
   "metadata": {},
   "outputs": [],
   "source": []
  }
 ],
 "metadata": {
  "kernelspec": {
   "display_name": "Python 3 (ipykernel)",
   "language": "python",
   "name": "python3"
  },
  "language_info": {
   "codemirror_mode": {
    "name": "ipython",
    "version": 3
   },
   "file_extension": ".py",
   "mimetype": "text/x-python",
   "name": "python",
   "nbconvert_exporter": "python",
   "pygments_lexer": "ipython3",
   "version": "3.10.5"
  }
 },
 "nbformat": 4,
 "nbformat_minor": 4
}
