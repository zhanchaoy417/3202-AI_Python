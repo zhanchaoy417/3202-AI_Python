{
 "cells": [
  {
   "cell_type": "markdown",
   "metadata": {},
   "source": [
    "# Machine learning & Reinforcement learning for drone\n",
    "\n",
    "---\n",
    "\n",
    "\n",
    "This is your final programming project for CSCI 3202. It is due on Canvas by **11:59 PM on Saturday April 30**.  Your solutions to theoretical questions should be done in Markdown/LateX directly below the associated question. Your solutions to computational questions should include any relevant Python code, as well as results and any written commentary.\n",
    "\n",
    "You have two options for completing your final project for this course. The first option is presented in this notebook and involves implementing a reinforcement learning algorithm and producing a five-minute video that explains your process of solving this problem. The second option is to design your own project that includes the algorithms we've discussed since the midterm - Bayes Nets, Hidden Markov Models, Markov Decision Processes, or Reinforcement Learning - or an algorithm related to one of these that we haven't discussed in class. Your project also needs to include some kind of analysis of how it performed on a specific problem. If you're interested in the design your own project option, you need to discuss your idea with one of the course instructors to get approval. If you do a project without getting approval, you will receive a 0 regardless of the quality of the project. You will also need to produce a short, five-minute video that explains your project.\n",
    "\n",
    "**The rules:**\n",
    "\n",
    "1. Choose EITHER the given problem to submit OR choose your own project topic. \n",
    "\n",
    "2. If you choose your own project topic, please adhere to the following guidelines:\n",
    "- The project needs to be approved by the course instructors.\n",
    "- The project needs to include one of the algorithms we've discussed since the midterm - Bayes Nets, HMMs, MDPs, or Reinforcement Learning - or an algorithm that we haven't discussed in class. \n",
    "- If you do your own project without prior approval, you will receive a 0 for this project.\n",
    "- Your project code, explanation, and results must all be contained in a Jupyter notebook. \n",
    "\n",
    "3. All work, code and analysis must be **your own**.\n",
    "4. You may use your course notes, posted lecture slides, textbook, in-class notebooks and homework solutions as resources.  You may also search online for answers to general knowledge questions, like the form of a probability distribution function, or how to perform a particular operation in Python. You may not use entire segments of code as solutions to any part of this project, e.g. if you find a Python implementation of policy iteration online, you can't use it.\n",
    "5. You may **not** post to message boards or other online resources asking for help.\n",
    "6. **You may not collaborate with classmates or anyone else.**\n",
    "7. This is meant to be like a coding portion of your final exam. So, we will be much less helpful than we typically am with homework. For example, we will not check answers, help debug your code, and so on.\n",
    "8. If you have a question, post it first as a **private** Piazza message. If we decide that it is appropriate for the entire class, then we will make it a public post (and anonymous).\n",
    "9. If something is left open-ended, it is probably because we intend for you to code it up however you want, and only care about the plots/analysis we see at the end. Feel free to ask clarifying questions though.\n",
    "\n",
    "Violation of these rules will result in an **F** and a trip to the Honor Code council.\n",
    "\n",
    "---\n",
    "**By writing your name below, you agree to abide by these rules:**\n",
    "\n",
    "**Your name: Zhanchao Yang**\n",
    "\n",
    "--- \n",
    "\n"
   ]
  },
  {
   "cell_type": "markdown",
   "metadata": {},
   "source": [
    "Choose problem 1 and fill out in this notebook"
   ]
  },
  {
   "cell_type": "code",
   "execution_count": 119,
   "metadata": {},
   "outputs": [],
   "source": [
    "import pandas as pd\n",
    "import numpy as np\n",
    "import scipy.stats as stats\n",
    "import matplotlib.pyplot as plt\n",
    "from collections import defaultdict\n",
    "\n",
    "# added packages\n",
    "import heapq\n",
    "from matplotlib import colors\n",
    "\n",
    "#ADD\n",
    "import math\n",
    "import random\n",
    "import numpy"
   ]
  },
  {
   "cell_type": "markdown",
   "metadata": {},
   "source": [
    "\n",
    "\n",
    "---\n",
    "## [100 pts] Problem 1:  Reinforcement learning\n",
    "\n",
    "Consider a **cube** state space defined by $0 \\le x, y, z \\le L$. Suppose you are piloting/programming a drone to learn how to land on a platform at the center of the $z=0$ surface (the bottom). Some assumptions:\n",
    "* In this discrete world, if the drone is at $(x,y,z)$ it means that the box is centered at $(x,y,z)$. There are boxes (states) centered at $(x,y,z)$ for all $0 \\le x,y,z \\le L$. Each state is a 1 unit cube. So when $L=2$ (for example), there are cubes centered at each $x=0,1,2$, $y=0,1,2$ and so on, for a total state space size of $3^3 = 27$ states.\n",
    "* All of the states with $z=0$ are terminal states.\n",
    "* The state at the center of the bottom of the cubic state space is the landing pad. For example, when $L=4$, the landing pad is at $(x,y,z) = (2,2,0)$.\n",
    "* All terminal states ***except*** the landing pad have a reward of -1. The landing pad has a reward of +1.\n",
    "* All non-terminal states have a living reward of -0.01.\n",
    "* The drone takes up exactly 1 cubic unit, and begins in a random non-terminal state.\n",
    "* The available actions in non-terminal states include moving exactly 1 unit Up (+z), Down (-z), North (+y), South (-y), East (+x) or West (-x). In a terminal state, the training episode should end."
   ]
  },
  {
   "cell_type": "markdown",
   "metadata": {},
   "source": [
    "#### Part A\n",
    "Write a class `MDPLanding` to represent the Markov decision process for this drone. Include methods for:\n",
    "1. `actions(state)`, which should return a list of all actions available from the given state\n",
    "2. `reward(state)`, which should return the reward for the given state\n",
    "3. `result(state, action)`, which should return the resulting state of doing the given action in the given state\n",
    "\n",
    "and attributes for:\n",
    "1. `states`, a list of all the states in the state space, where each state is represented as an $(x,y,z)$ tuple\n",
    "2. `terminal_states`, a dictionary where keys are the terminal state tuples and the values are the rewards associated with those terminal states\n",
    "3. `default_reward`, a scalar for the reward associated with non-terminal states\n",
    "4. `all_actions`, a list of all possible actions (Up, Down, North, South, East, West)\n",
    "5. `discount`, the discount factor (use $\\gamma = 0.999$ for this entire problem)\n",
    "\n",
    "How you feed arguments/information into the class constructor is up to you.\n",
    "\n",
    "Note that actions are *deterministic* here.  The drone does not need to learn transition probabilities for outcomes of particular actions. What the drone does need to learn, however, is where the landing pad is, and how to get there from any initial state.\n",
    "\n",
    "Before moving on to Part B, we recommend that you test that your MDPLanding code is set up correctly. Write unit tests that display the actions for a given state, rewards, results, etc. This will help you identify errors in your implementation and save you a lot of debugging time later."
   ]
  },
  {
   "cell_type": "code",
   "execution_count": 128,
   "metadata": {},
   "outputs": [],
   "source": [
    "# Your code here.\n",
    "class MDPLanding:\n",
    "    # first need the size of space, reward and discount are need so that share same class with part F\n",
    "    def __init__(self,L, default_reward,terminal_reward,landing_reward,discount):\n",
    "        #N increments by 1 to ingore seg fault\n",
    "        N=L+1\n",
    "        self.default_reward=default_reward\n",
    "        self.discount=discount\n",
    "        self.states=[]\n",
    "        self.terminal_states={}\n",
    "        #build our x,y,z space, append each position in the end\n",
    "        for x in range(N):\n",
    "            for y in range(N):\n",
    "                for z in range(N):\n",
    "        #All of the states with  z=0  are terminal states with -1\n",
    "                    if z==0:\n",
    "                        self.terminal_states[(x,y,0)]= terminal_reward\n",
    "                        self.states.append((x,y,z))\n",
    "                    else:\n",
    "                        self.states.append((x,y,z))\n",
    "        # The center is landing pad, update it reward from -1 to 1\n",
    "        self.terminal_states[(L/2,L/2,0)]=landing_reward\n",
    "        \n",
    "    def actions(self,state):\n",
    "        moves=[]\n",
    "        #6 possible actions with x,y,z. And use UDNSEW only help us build the action_list, we don't need to call them\n",
    "        #all_actions is temp list\n",
    "        U=(state[0],state[1],state[2]+1)\n",
    "        D=(state[0],state[1],state[2]-1)\n",
    "        N=(state[0],state[1]+1,state[2])\n",
    "        S=(state[0],state[1]-1,state[2])\n",
    "        E=(state[0]+1,state[1],state[2])\n",
    "        W=(state[0]-1,state[1],state[2])\n",
    "        \n",
    "        all_actions=[U,D,N,S,E,W]\n",
    "        #if terminal_states, stop\n",
    "        if state in self.terminal_states:\n",
    "            return [None]\n",
    "        else:\n",
    "        #otherwise list all possibole actions, append to move, and return\n",
    "            for i in range(len(all_actions)):\n",
    "                if(all_actions[i] in self.states):\n",
    "                    moves.append(all_actions[i] )\n",
    "        return moves\n",
    "                    \n",
    "    def reward(self,state):\n",
    "        #reward have 1,-1,-0.01\n",
    "        #return -1/1 if terminal,we define it on init\n",
    "        if state in self.terminal_states:\n",
    "            return self.terminal_states[state]\n",
    "        else:\n",
    "     # we can direct call them with init \n",
    "            return self.default_reward\n",
    "\n",
    "    #only for start and next have 1 distance length, only need in policy_iter func\n",
    "    #return direction according to start and action\n",
    "    def result(self,state,action):\n",
    "        #a dictionary for possibole moves\n",
    "        lst_move={(0,0,1):'U',(0,0,-1):'D', (0,1,0):'N',(0,-1,0):'S',(1,0,0):'E',(-1,0,0):'W'}\n",
    "        \n",
    "        move=( action[0] -state[0],action[1] -state[1] ,action[2] -state[2] )\n",
    "        #use get method to get value given key\n",
    "        return (  lst_move.get(move) )\n",
    "        "
   ]
  },
  {
   "cell_type": "code",
   "execution_count": 129,
   "metadata": {},
   "outputs": [
    {
     "name": "stdout",
     "output_type": "stream",
     "text": [
      "test1: {(0, 0, 0): -1, (0, 1, 0): -1, (0, 2, 0): -1, (1, 0, 0): -1, (1, 1, 0): 1, (1, 2, 0): -1, (2, 0, 0): -1, (2, 1, 0): -1, (2, 2, 0): -1}\n",
      "test1: [(0, 0, 0), (0, 0, 1), (0, 0, 2), (0, 1, 0), (0, 1, 1), (0, 1, 2), (0, 2, 0), (0, 2, 1), (0, 2, 2), (1, 0, 0), (1, 0, 1), (1, 0, 2), (1, 1, 0), (1, 1, 1), (1, 1, 2), (1, 2, 0), (1, 2, 1), (1, 2, 2), (2, 0, 0), (2, 0, 1), (2, 0, 2), (2, 1, 0), (2, 1, 1), (2, 1, 2), (2, 2, 0), (2, 2, 1), (2, 2, 2)]\n",
      "test2: [(1, 1, 2), (1, 1, 0), (1, 2, 1), (1, 0, 1), (2, 1, 1), (0, 1, 1)]\n",
      "test3: N\n"
     ]
    }
   ],
   "source": [
    "#unit test\n",
    "L=2\n",
    "a=MDPLanding(L,default_reward=-0.01,terminal_reward=-1,landing_reward=1,discount=0.999 )\n",
    "\n",
    "#test 1 check terminal_states and state if level 2\n",
    "print('test1:',a.terminal_states) \n",
    "print('test1:',a.states) \n",
    "#test 2\n",
    "#check possiable move for given state, should return 6 moves\n",
    "out1=a.actions((1,1,1))\n",
    "print('test2:',out1)\n",
    "\n",
    "#test 3 answer expect be N , if we start from (1,0,0) and end (1,1,0)\n",
    "out2=a.result((1,0,0),(1,1,0))\n",
    "print('test3:', out2)"
   ]
  },
  {
   "cell_type": "markdown",
   "metadata": {
    "collapsed": true
   },
   "source": [
    "#### Part B\n",
    "Write a function to implement **policy iteration** for this drone landing MDP. Create an MDP environment to represent the $L=4$ case (so 125 total states).\n",
    "\n",
    "Use your function to find an optimal policy for your new MDP environment. Check (by printing to screen) that the policy for the following states are what you expect, and **comment on the results**:\n",
    "1. $(2,2,1)$\n",
    "1. $(0,2,1)$\n",
    "1. $(2,0,1)$\n",
    "\n",
    "The policy for each of these states is the action that the agent should take in that state. "
   ]
  },
  {
   "cell_type": "code",
   "execution_count": 130,
   "metadata": {},
   "outputs": [
    {
     "name": "stdout",
     "output_type": "stream",
     "text": [
      "the policy for (2,2,1) is:\n",
      "start (2, 2, 1)\n",
      "(2, 2, 0)\n",
      "direction is:  ['D']\n",
      "--\n",
      "the policy for (0,2,1) is:\n",
      "start (0, 2, 1)\n",
      "(1, 2, 1)\n",
      "(2, 2, 1)\n",
      "(2, 2, 0)\n",
      "direction is:  ['E', 'E', 'D']\n",
      "--\n",
      "the policy for (2,0,1) is:\n",
      "start (2, 0, 1)\n",
      "(2, 1, 1)\n",
      "(2, 2, 1)\n",
      "(2, 2, 0)\n",
      "direction is:  ['N', 'N', 'D']\n"
     ]
    }
   ],
   "source": [
    "# Your code here.\n",
    "#https://www.adamsmith.haus/python/answers/how-to-find-the-index-of-the-max-value-in-a-list-in-python\n",
    "# use for how to find the max value given index\n",
    "# use lecture 33 note \n",
    "import copy\n",
    "def policy_iteration(MDP,s):\n",
    "#initlize  default_ult/ U(s) =0\n",
    "    default_ult={}\n",
    "    update_ult={}\n",
    "    for state in MDP.states:\n",
    "        default_ult[state]=0\n",
    "    Done=True\n",
    "    n=0\n",
    "    #set up a while loop, iteration from n=0\n",
    "    while Done :\n",
    "        for state in MDP.states:\n",
    "    # terminal_states have -1/1,direct append them\n",
    "            if state in MDP.terminal_states:\n",
    "                update_ult[state]=MDP.reward(state)\n",
    "            else:\n",
    "    #action_ult is all possbile Utility for next action, default_reward is R(s)\n",
    "                action_ult=[ default_ult[state] for state in MDP.actions(state)]\n",
    "                default_reward=MDP.reward(state)\n",
    "    #function is same as lecture note\n",
    "                update_ult[state]=default_reward+MDP.discount * max(action_ult)\n",
    "    #copy to default_ult then keep update new list, idea is do iterion,\n",
    "        n+=1\n",
    "        default_ult=copy.deepcopy(update_ult)\n",
    "    # here I choose  do 20 iteration then stop\n",
    "        if (n==20):\n",
    "            Done = False\n",
    "            \n",
    "    #first part we will have update_ult, second part find the policy given states\n",
    "    print('start',s)\n",
    "    #create a direction_lst\n",
    "    lst_0=[]\n",
    "    while s not in MDP.terminal_states:\n",
    "        #S to store old s value\n",
    "        S=s\n",
    "        #lst is the action list\n",
    "        lst=MDP.actions(s)\n",
    "        #lst2 is the utility list\n",
    "        lst2=[update_ult[x] for x in MDP.actions(s)]\n",
    "        max_value=max(lst2)\n",
    "        #get index of state with max utility\n",
    "        max_index=lst2.index(max_value)\n",
    "        #get the correpond state with max utility\n",
    "        s=lst[max_index]\n",
    "        # append to irection_lst\n",
    "        lst_0.append( MDP.result(S,s))\n",
    "        print(s)    \n",
    "    print('direction is: ',lst_0)\n",
    "\n",
    "\n",
    "L=4\n",
    "MDP= MDPLanding(L,default_reward=-0.01,terminal_reward=-1,landing_reward=1,discount=0.999)\n",
    "\n",
    "print('the policy for (2,2,1) is:')\n",
    "out1 = policy_iteration(MDP,(2,2,1))\n",
    "print('--')\n",
    "\n",
    "print('the policy for (0,2,1) is:')\n",
    "out2 = policy_iteration(MDP,(0,2,1))\n",
    "print('--')\n",
    "\n",
    "print('the policy for (2,0,1) is:')\n",
    "out3 = policy_iteration(MDP,(2,0,1))"
   ]
  },
  {
   "cell_type": "markdown",
   "metadata": {},
   "source": [
    "#### Part C\n",
    "\n",
    "Code up a **Q-learning** agent/algorithm to learn how to land the drone. You can do this however you like, as long as you use the MDP class structure defined above.  \n",
    "\n",
    "Your code should include some kind of a wrapper to run many trials to train the agent and learn the Q values.  You also do not need to have a separate function for the actual \"agent\"; your code can just be a \"for\" loop within which you are refining your estimate of the Q values.\n",
    "\n",
    "From each training trial, save the cumulative discounted reward (utility) over the course of that episode. That is, add up all of $\\gamma^t R(s_t)$ where the drone is in state $s_t$ during time step $t$, for the entire sequence. We refer to this as \"cumulative reward\" because we usually refer to \"utility\" as the utility *under an optimal policy*.\n",
    "\n",
    "Some guidelines:\n",
    "* The drone should initialize in a random non-terminal state for each new training episode.\n",
    "* The training episodes should be limited to 50 time steps, even if the drone has not yet landed. If the drone lands (in a terminal state), the training episode is over.\n",
    "* You may use whatever learning rate $\\alpha$ you decide is appropriate, and gives good results.\n",
    "* There are many forms of Q-learning. You can use whatever you would like, subject to the reliability targets in Part D below.\n",
    "* Your code should return:\n",
    "  * The learned Q values associated with each state-action pair.\n",
    "  * The cumulative reward for each training trial. \n",
    "  * Anything else that might be useful in the ensuing analysis."
   ]
  },
  {
   "cell_type": "code",
   "execution_count": 136,
   "metadata": {},
   "outputs": [],
   "source": [
    "# Your code here.\n",
    "#use lecture 35 note \n",
    "\n",
    "#input is learning rate, number of training episodes\n",
    "def Q_learning(MDP,lr, n_it):\n",
    "# create two new lists for terminal/state given MDP, copy them\n",
    "    spaces=[]\n",
    "    terminal=[]\n",
    "    spaces=copy.deepcopy(MDP.states)\n",
    "    terminal=copy.deepcopy(MDP.terminal_states)\n",
    "    Q= {}\n",
    "    R= {}\n",
    "    #n is steps and creat list which value_lst for cumulative reward\n",
    "    n = 0\n",
    "    value_lst = []  \n",
    "    \n",
    "   #initlize Q table as 0 and reward_table with s,a\n",
    "    for s in spaces:\n",
    "        a_lst = MDP.actions(s)\n",
    "        for a in a_lst:\n",
    "        # if not reach terminal state next, use reward of next state \n",
    "            R[(s,a)] = MDP.reward(a)\n",
    "            Q[(s,a)] = 0\n",
    "            if(a in terminal):\n",
    "        # if reach terminal state next, use reward of current state \n",
    "                R[(a,s)]=MDP.reward(s)\n",
    "                Q[(a,s)]=0\n",
    "    # v is value for cumulative reward, loop with training episodes\n",
    "    v=0\n",
    "    for i in range(n_it):\n",
    "    # random start, choose any MDP state, choose again if terminal state\n",
    "        s=random.choice(spaces)\n",
    "        while s in terminal:\n",
    "            s=random.choice(spaces)\n",
    "        # if terminal state, not count value and the step\n",
    "        v=0   \n",
    "        while s not in terminal:\n",
    "            a = random.choice(MDP.actions(s))\n",
    "#             adjQ = [ Q[(a, next_a)] for next_a in MDP.actions(a) ]\n",
    "# function is similar as lecture, Q= Q+lr*(R + gamma * max adjQ), adjQ is Qtable for next action\n",
    "            Q[(s, a)] =0+ lr*(R[(s, a)] + MDP.discount *max( [ Q[(a, next_a)] for next_a in MDP.actions(a) ])  )\n",
    "# add to cumulative reward then set state equal to next state, do iteration\n",
    "            v+= Q[(s, a)] \n",
    "            s = a\n",
    "            n += 1\n",
    "    #if we reach termianl state then return, otherwise reach 50 limit steps to stop\n",
    "            if(n==50):\n",
    "                break\n",
    "        #get the average value and add to value list \n",
    "        value_per_step=v/n\n",
    "        value_lst.append(value_per_step)\n",
    "    # if not terminal state, we want count vvalue and the step\n",
    "        n = 0\n",
    "# as requirement, return Q table and value as array for part d\n",
    "    return (Q, value_lst)\n",
    "             "
   ]
  },
  {
   "cell_type": "markdown",
   "metadata": {},
   "source": [
    "#### Part D\n",
    "\n",
    "Initialize the $L=10$ environment (so that the landing pad is at $(5,5,0)$). Run some number of training trials to train the drone.\n",
    "\n",
    "**How do I know if my drone is learned enough?**  If you take the mean cumulative reward across the last 5000 training trials, it should be around 0.80. This means at least about 10,000 (but probably more) training episodes will be necessary. It will take a few seconds on your computer, so start small to test your code.\n",
    "\n",
    "**Then:** Compute block means of cumulative reward from all of your training trials. Use blocks of 500 training trials. This means you need to create some kind of array-like structure such that its first element is the mean of the first 500 trials' cumulative rewards; its second element is the mean of the 501-1000th trials' cumulative rewards; and so on. Make a plot of the block mean rewards as the training progresses. It should increase from about -0.5 initially to somewhere around +0.8.\n",
    "\n",
    "**And:** Print to the screen the mean of the last 5000 trials' cumulative rewards, to verify that it is indeed about 0.80."
   ]
  },
  {
   "cell_type": "code",
   "execution_count": 137,
   "metadata": {},
   "outputs": [
    {
     "name": "stdout",
     "output_type": "stream",
     "text": [
      "increase from about -0.5041744495262805\n",
      "mean of last 5000 trial is 0.7884684296649178\n"
     ]
    },
    {
     "data": {
      "image/png": "[encoded data removed]",
      "text/plain": [
       "<Figure size 432x288 with 1 Axes>"
      ]
     },
     "metadata": {
      "needs_background": "light"
     },
     "output_type": "display_data"
    }
   ],
   "source": [
    "# Your code here.\n",
    "#use np.array to build array https://numpy.org/doc/stable/reference/generated/numpy.array.html\n",
    "#split array: https://kanoki.org/2020/06/11/how-to-split-numpy-arrays/\n",
    "# use mean with axis https://numpy.org/doc/stable/reference/generated/numpy.mean.html\n",
    "\n",
    "# set up all the input var, use lr as large and at least 10000 trials\n",
    "L=10\n",
    "lr=0.9999\n",
    "trial=10000\n",
    "\n",
    "#Use blocks of 500 training trials.\n",
    "block = trial/500\n",
    "\n",
    "MDP1 = MDPLanding(L,default_reward=-0.01,terminal_reward=-1,landing_reward=1,discount=0.999)\n",
    "(out_1, out2) = Q_learning(MDP1, lr,trial)\n",
    "\n",
    "#value list is array ,treat out2 as array\n",
    "#find first element\n",
    "print('increase from about',np.mean(numpy.array(out2[ 0:500]))* L )\n",
    "\n",
    "print( 'mean of last 5000 trial is' ,np.mean(numpy.array(out2[ 5000: 10000])  )  )\n",
    "\n",
    "#splict function to get 20 blocks and find y-axis value then calc last 5000 trials average,\n",
    "y= np.mean(np.split(numpy.array(out2),block),  axis=1)\n",
    "\n",
    "#assign x 0 to 19\n",
    "x=[]\n",
    "for i in range(len(y)):\n",
    "    x.append(i)\n",
    "#plt.plot(x, means) will plot as line\n",
    "#use scatter to plot point that is better\n",
    "plt.scatter(x, y)\n",
    "plt.show()"
   ]
  },
  {
   "cell_type": "markdown",
   "metadata": {},
   "source": [
    "#### Part E\n",
    "\n",
    "**Question 1:** Why does the cumulative reward start off around -0.5 at the beginning of the training?\n",
    "\n",
    "**Question 2:** Why will it be difficult for us to train the drone to reliably obtain rewards much greater than about 0.8?"
   ]
  },
  {
   "cell_type": "markdown",
   "metadata": {},
   "source": [
    "$\\textbf{answer:}$\n",
    "\n",
    "1.Because at the beginning, our drone only cares about short-term benefits, it only wants to reach the terminal state, and doesn't care that it is -1/1, and in probability theory，most of the terminal state drone will take is -1, so drone will take many steps to reach -1, and the next time drone will take less steps to reach -1. And 0.5 is the difference in the number of steps spent. In this case, cumulative reward will not start from a number greater than 0 but start off around -0.5 (see first dot in the graph part d).\n",
    "\n",
    "2.Because we want the drone to learn, a large learning rate makes it value long-term benefits, and the drone will target the terminal state of 1, so the value is positive. Due to the use of random start, drone may take a relatively small number of steps to reach 1 each time, plus there is a dicount factor each time, so 0.8 is the largest possible reward from random to landing. Limited by a fixed discount 0.999, a learning rate and the necessary number of steps to landing, discount  value makes continuous rewards less and less, so cannot get a reward much larger than 0.8 (see the last few dots of part d)."
   ]
  },
  {
   "cell_type": "markdown",
   "metadata": {},
   "source": [
    "#### Part F\n",
    "Choose three other reward structures, including the terminal rewards and the living rewards, and rerun your policy iteration and Q-learning algorithms with those reward structures. Write a paragraph or two describing the reward structures that you selected, what impact you expected the changes to have on your results, and what changes actually happened. If there was a difference in what you expected and what actually happened, reflect on why there was a difference. "
   ]
  },
  {
   "cell_type": "code",
   "execution_count": 133,
   "metadata": {},
   "outputs": [
    {
     "name": "stdout",
     "output_type": "stream",
     "text": [
      "start (0, 2, 1)\n",
      "(1, 2, 1)\n",
      "(2, 2, 1)\n",
      "(2, 2, 0)\n",
      "direction is:  ['E', 'E', 'D']\n",
      "mean of last 5000 trial of structure 1 is: 0.576950281835016\n"
     ]
    }
   ],
   "source": [
    "#all 3 structures use different terminal_reward=-0.8 landing_reward=0.8\n",
    "#reward structure 1 \n",
    "#large default_reward, less dicount, same lr\n",
    "L=4\n",
    "s=(0,2,1)\n",
    "MDP2 = MDPLanding(L,default_reward=-0.001,terminal_reward=-0.8,landing_reward=0.8,discount=0.99)\n",
    "policy_iteration(MDP2, s)\n",
    "(out1,out2)= Q_learning(MDP2 ,lr=0.9999, n_it=10000)\n",
    "print( 'mean of last 5000 trial of structure 1 is:' ,np.mean(numpy.array(out2[ 5000: 10000])  )  )\n",
    "\n"
   ]
  },
  {
   "cell_type": "code",
   "execution_count": 134,
   "metadata": {},
   "outputs": [
    {
     "name": "stdout",
     "output_type": "stream",
     "text": [
      "start (0, 2, 1)\n",
      "(1, 2, 1)\n",
      "(2, 2, 1)\n",
      "(2, 2, 0)\n",
      "direction is:  ['E', 'E', 'D']\n",
      "mean of last 5000 trial of structure 2 is: 0.16309728816471217\n"
     ]
    }
   ],
   "source": [
    "#reward structure 2\n",
    "#less default_reward, less dicount, same lr\n",
    "MDP2 = MDPLanding(L,default_reward=-0.1,terminal_reward=-0.8,landing_reward=0.8,discount=0.99)\n",
    "policy_iteration(MDP2, s)\n",
    "(out1,out2)= Q_learning(MDP2 ,lr=0.9999, n_it=10000)\n",
    "print( 'mean of last 5000 trial of structure 2 is:' ,np.mean(numpy.array(out2[ 5000: 10000])  )  )\n"
   ]
  },
  {
   "cell_type": "code",
   "execution_count": 135,
   "metadata": {},
   "outputs": [
    {
     "name": "stdout",
     "output_type": "stream",
     "text": [
      "start (0, 2, 1)\n",
      "(1, 2, 1)\n",
      "(2, 2, 1)\n",
      "(2, 2, 0)\n",
      "direction is:  ['E', 'E', 'D']\n",
      "mean of last 5000 trial of structure 3 is: 0.14372857703463301\n"
     ]
    }
   ],
   "source": [
    "#reward structure 3\n",
    "#less default_reward, less dicount, less lr\n",
    "MDP2 = MDPLanding(L,default_reward=-0.1,terminal_reward=-0.8,landing_reward=0.8,discount=0.99)\n",
    "policy_iteration(MDP2, s)\n",
    "(out1,out2)= Q_learning(MDP2 ,lr=0.99, n_it=10000)\n",
    "print( 'mean of last 5000 trial of structure 3 is:' ,np.mean(numpy.array(out2[ 5000: 10000])  )  )"
   ]
  },
  {
   "cell_type": "markdown",
   "metadata": {},
   "source": [
    "$\\textbf{answer:}$\n",
    "First of all, the three rewards are different from the terminal and living reward of the previous rewards, so I increased the terminal value and decreased the landing value. $\\textbf{The first reward structure}$ is large default_reward, less dicount, same learning rate; $\\textbf{the second reward structure}$ is less default_reward, less dicount, same learning rate; $\\textbf{the third reward structure}$ is less default_reward, less dicount, less learning rate.\n",
    "\n",
    "I think that compared with the previous structure, the rewards of the new three structures will decrease. $\\textbf{My expectation}$ is that for Qlearning, among the three rewards, structure 1 $>$ structure 2 $>$ structure 3, and for policy iteration, the three reward structures are finally reach the landing state and the steps are the same. $\\textbf{The actual result}$ is as I expected. $\\textbf{The explanation}$ is that because drone pursues long-term interests, it pursues a state of +0.8, so under policy iteartion, the strategies of the three reward structures are the same, and these three utility decreases due to the decrease in landing interests. The difference between reward structures 1 and 2 is the default reward, because structure 1 has a larger value, so the cost of its steps is less, resulting in the average benefit of reward structure 1 $>$ structure 2; the difference between reward structures 2 and 3 is learning rate, because structure 2 has more A large learning rate, which tends to continuously learn to gain and update a larger utility, results in a reward structure 2 with an average benefit $>$ structure3."
   ]
  },
  {
   "cell_type": "code",
   "execution_count": null,
   "metadata": {},
   "outputs": [],
   "source": []
  }
 ],
 "metadata": {
  "kernelspec": {
   "display_name": "Python 3 (ipykernel)",
   "language": "python",
   "name": "python3"
  },
  "language_info": {
   "codemirror_mode": {
    "name": "ipython",
    "version": 3
   },
   "file_extension": ".py",
   "mimetype": "text/x-python",
   "name": "python",
   "nbconvert_exporter": "python",
   "pygments_lexer": "ipython3",
   "version": "3.9.7"
  }
 },
 "nbformat": 4,
 "nbformat_minor": 2
}
